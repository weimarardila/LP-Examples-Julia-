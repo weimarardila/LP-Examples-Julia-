{
 "cells": [
  {
   "cell_type": "code",
   "execution_count": 1,
   "id": "dae6ff6d-c017-48a1-b538-bb61815df941",
   "metadata": {},
   "outputs": [
    {
     "data": {
      "text/latex": [
       "$$ \\begin{aligned}\n",
       "\\max\\quad & 600 x1 + 300 x2\\\\\n",
       "\\text{Subject to} \\quad & 3 x1 + 2 x2 \\leq 2400\\\\\n",
       " & x2 \\leq 800\\\\\n",
       " & 2 x1 \\leq 1200\\\\\n",
       " & x1 \\geq 0\\\\\n",
       " & x2 \\geq 0\\\\\n",
       "\\end{aligned} $$"
      ]
     },
     "metadata": {},
     "output_type": "display_data"
    },
    {
     "name": "stdout",
     "output_type": "stream",
     "text": [
      "Optimal Solutions:\n",
      "x1 = 600.0\n",
      "x2 = 300.0\n",
      "Objective value: 450000.0\n"
     ]
    }
   ],
   "source": [
    "using JuMP, GLPK\n",
    "\n",
    "# Preparing an optimization model\n",
    "m = Model(GLPK.Optimizer)\n",
    "\n",
    "# Declaring variables\n",
    "@variable(m, x1 >=0)\n",
    "@variable(m, x2 >=0)\n",
    "\n",
    "# Setting the objective\n",
    "@objective(m, Max, 600x1 + 300x2)\n",
    "\n",
    "# Adding constraints\n",
    "@constraint(m, 3x1 + 2x2 <= 2400)\n",
    "@constraint(m, 1x2 <= 800)\n",
    "@constraint(m, 2x1 <= 1200)\n",
    "\n",
    "# Printing the prepared optimization model\n",
    "print(m)\n",
    "\n",
    "# Solving the optimization problem\n",
    "JuMP.optimize!(m)\n",
    "\n",
    "# Printing the optimal solutions obtained\n",
    "println(\"Optimal Solutions:\")\n",
    "println(\"x1 = \", JuMP.value(x1))\n",
    "println(\"x2 = \", JuMP.value(x2))\n",
    "            \n",
    "println(\"Objective value: \", objective_value(m))"
   ]
  },
  {
   "cell_type": "code",
   "execution_count": null,
   "id": "edebddbd-383f-4f60-a197-e7d0f0bebf1d",
   "metadata": {},
   "outputs": [],
   "source": []
  }
 ],
 "metadata": {
  "kernelspec": {
   "display_name": "Julia 1.10.4",
   "language": "julia",
   "name": "julia-1.10"
  },
  "language_info": {
   "file_extension": ".jl",
   "mimetype": "application/julia",
   "name": "julia",
   "version": "1.10.4"
  }
 },
 "nbformat": 4,
 "nbformat_minor": 5
}
