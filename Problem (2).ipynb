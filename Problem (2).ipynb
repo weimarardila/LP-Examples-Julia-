{
 "cells": [
  {
   "cell_type": "code",
   "execution_count": 5,
   "id": "6de68172-673a-419e-8aa1-7086d30309bb",
   "metadata": {},
   "outputs": [
    {
     "data": {
      "text/latex": [
       "$$ \\begin{aligned}\n",
       "\\max\\quad & 0.33 x1 + 0.88 x2\\\\\n",
       "\\text{Subject to} \\quad & 0.1 x1 \\leq 200\\\\\n",
       " & 0.25 x2 \\leq 800\\\\\n",
       " & 2 x1 + 3 x2 \\leq 120000\\\\\n",
       " & x1 \\geq 0\\\\\n",
       " & x2 \\geq 0\\\\\n",
       "\\end{aligned} $$"
      ]
     },
     "metadata": {},
     "output_type": "display_data"
    },
    {
     "name": "stdout",
     "output_type": "stream",
     "text": [
      "Optimal Solutions:\n",
      "x1 = 2000.0\n",
      "x2 = 3200.0\n",
      "Objective value: 3476.0\n"
     ]
    }
   ],
   "source": [
    "using JuMP, GLPK\n",
    "\n",
    "# Preparing an optimization model\n",
    "m = Model(GLPK.Optimizer)\n",
    "\n",
    "# Declaring variables\n",
    "@variable(m, x1 >=0)\n",
    "@variable(m, x2 >=0)\n",
    "\n",
    "# Setting the objective\n",
    "@objective(m, Max, .33x1 + .88x2)\n",
    "\n",
    "# Adding constraints\n",
    "@constraint(m, .1x1 <= 200)\n",
    "@constraint(m, .25x2<= 800)\n",
    "@constraint(m, 2x1 + 3x2 <= 5*400*60)\n",
    "\n",
    "# Printing the prepared optimization model\n",
    "print(m)\n",
    "\n",
    "# Solving the optimization problem\n",
    "JuMP.optimize!(m)\n",
    "\n",
    "# Printing the optimal solutions obtained\n",
    "println(\"Optimal Solutions:\")\n",
    "println(\"x1 = \", JuMP.value(x1))\n",
    "println(\"x2 = \", JuMP.value(x2))\n",
    "            \n",
    "println(\"Objective value: \", objective_value(m))"
   ]
  },
  {
   "cell_type": "code",
   "execution_count": null,
   "id": "9437e367-0360-41ac-bafd-204d9a1f8ef7",
   "metadata": {},
   "outputs": [],
   "source": []
  }
 ],
 "metadata": {
  "kernelspec": {
   "display_name": "Julia 1.10.4",
   "language": "julia",
   "name": "julia-1.10"
  },
  "language_info": {
   "file_extension": ".jl",
   "mimetype": "application/julia",
   "name": "julia",
   "version": "1.10.4"
  }
 },
 "nbformat": 4,
 "nbformat_minor": 5
}
