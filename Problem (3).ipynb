{
 "cells": [
  {
   "cell_type": "code",
   "execution_count": 13,
   "id": "4c3cd454-c7e9-41c0-8645-487a1205a1f9",
   "metadata": {},
   "outputs": [
    {
     "data": {
      "text/latex": [
       "$$ \\begin{aligned}\n",
       "\\min\\quad & 20 x1 + 15 x2\\\\\n",
       "\\text{Subject to} \\quad & 0.4 x1 + 0.32 x2 = 1000000\\\\\n",
       " & 0.2 x1 + 0.4 x2 = 500000\\\\\n",
       " & 0.35 x1 + 0.2 x2 = 300000\\\\\n",
       " & x1 \\geq 0\\\\\n",
       " & x2 \\geq 0\\\\\n",
       "\\end{aligned} $$"
      ]
     },
     "metadata": {},
     "output_type": "display_data"
    },
    {
     "name": "stdout",
     "output_type": "stream",
     "text": [
      "Optimal Solutions:\n",
      "x1 = 200000.0\n",
      "x2 = 1.15e6\n",
      "Objective value: 2.125e7\n"
     ]
    }
   ],
   "source": [
    "using JuMP, GLPK\n",
    "\n",
    "# Preparing an optimization model\n",
    "m = Model(GLPK.Optimizer)\n",
    "\n",
    "# Declaring variables\n",
    "@variable(m, x1 >=0)\n",
    "@variable(m, x2 >=0)\n",
    "\n",
    "\n",
    "# Setting the objective\n",
    "@objective(m, Min, 20x1 + 15x2)\n",
    "\n",
    "# Adding constraints\n",
    "@constraint(m, .4x1 + .32x2 == 1000000)\n",
    "@constraint(m, .2x1 + .4x2 == 500000)\n",
    "@constraint(m, .35x1 + .2x2 == 300000)\n",
    "\n",
    "\n",
    "# Printing the prepared optimization model\n",
    "print(m)\n",
    "\n",
    "# Solving the optimization problem\n",
    "JuMP.optimize!(m)\n",
    "\n",
    "# Printing the optimal solutions obtained\n",
    "println(\"Optimal Solutions:\")\n",
    "println(\"x1 = \", JuMP.value(x1))\n",
    "println(\"x2 = \", JuMP.value(x2))\n",
    "\n",
    "            \n",
    "println(\"Objective value: \", objective_value(m))"
   ]
  },
  {
   "cell_type": "code",
   "execution_count": null,
   "id": "64735744-bd94-48e7-a2ec-58c57803b64c",
   "metadata": {},
   "outputs": [],
   "source": []
  }
 ],
 "metadata": {
  "kernelspec": {
   "display_name": "Julia 1.10.4",
   "language": "julia",
   "name": "julia-1.10"
  },
  "language_info": {
   "file_extension": ".jl",
   "mimetype": "application/julia",
   "name": "julia",
   "version": "1.10.4"
  }
 },
 "nbformat": 4,
 "nbformat_minor": 5
}
