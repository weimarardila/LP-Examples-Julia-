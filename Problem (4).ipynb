{
 "cells": [
  {
   "cell_type": "code",
   "execution_count": 5,
   "id": "15d4398d",
   "metadata": {},
   "outputs": [
    {
     "data": {
      "text/latex": [
       "$$ \\begin{aligned}\n",
       "\\max\\quad & 26 x + 50 y + 20 z\\\\\n",
       "\\text{Subject to} \\quad & 2 x - 3 y = 0\\\\\n",
       " & 2 x + y + 6 z \\leq 200\\\\\n",
       " & 3 x + 5 y \\leq 300\\\\\n",
       " & 3.2 x + 1.5 y + 2 z \\leq 150\\\\\n",
       " & 2 x - y - z \\leq 0\\\\\n",
       " & x \\geq 5\\\\\n",
       " & y \\geq 0\\\\\n",
       " & z \\geq 0\\\\\n",
       "\\end{aligned} $$"
      ]
     },
     "metadata": {},
     "output_type": "display_data"
    },
    {
     "name": "stdout",
     "output_type": "stream",
     "text": [
      "Optimal Solutions:\n",
      "x1 = 18.75\n",
      "x2 = 12.5\n",
      "x3 = 25.0\n",
      "Objective value: 1612.5\n"
     ]
    }
   ],
   "source": [
    "using JuMP, GLPK\n",
    "\n",
    "# Preparing an optimization model\n",
    "m = Model(GLPK.Optimizer)\n",
    "\n",
    "# Declaring variables\n",
    "@variable(m, x >=5)\n",
    "@variable(m, y >=0)\n",
    "@variable(m, z >=0)\n",
    "\n",
    "# Setting the objective\n",
    "@objective(m, Max, 26x + 50y + 20z)\n",
    "\n",
    "# Adding constraints\n",
    "@constraint(m, 2x + y + 6z <=200)\n",
    "@constraint(m, 3x + 5y <=300)\n",
    "@constraint(m, 3.2x + 1.5y + 2z <=150)\n",
    "@constraint(m, 2x - y - z <=0)\n",
    "@constraint(m, 2x - 3y ==0)\n",
    "\n",
    "# Printing the prepared optimization model\n",
    "print(m)\n",
    "\n",
    "# Solving the optimization problem\n",
    "JuMP.optimize!(m)\n",
    "\n",
    "# Printing the optimal solutions obtained\n",
    "println(\"Optimal Solutions:\")\n",
    "println(\"x1 = \", JuMP.value(x))\n",
    "println(\"x2 = \", JuMP.value(y))\n",
    "println(\"x3 = \", JuMP.value(z))\n",
    "            \n",
    "println(\"Objective value: \", objective_value(m))"
   ]
  },
  {
   "cell_type": "code",
   "execution_count": null,
   "id": "bdd0b376",
   "metadata": {},
   "outputs": [],
   "source": []
  }
 ],
 "metadata": {
  "kernelspec": {
   "display_name": "Julia 1.10.4",
   "language": "julia",
   "name": "julia-1.10"
  },
  "language_info": {
   "file_extension": ".jl",
   "mimetype": "application/julia",
   "name": "julia",
   "version": "1.10.4"
  }
 },
 "nbformat": 4,
 "nbformat_minor": 5
}
